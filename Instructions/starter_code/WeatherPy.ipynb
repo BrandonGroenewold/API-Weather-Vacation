{
 "cells": [
  {
   "cell_type": "markdown",
   "metadata": {},
   "source": [
    "# WeatherPy\n",
    "----\n",
    "\n",
    "#### Note\n",
    "* Instructions have been included for each segment. You do not have to follow them exactly, but they are included to help you think through the steps."
   ]
  },
  {
   "cell_type": "code",
   "execution_count": null,
   "metadata": {
    "scrolled": true
   },
   "outputs": [],
   "source": [
    "# Dependencies and Setup\n",
    "import matplotlib.pyplot as plt\n",
    "import pandas as pd\n",
    "import numpy as np\n",
    "import requests\n",
    "import time\n",
    "from scipy.stats import linregress\n",
    "\n",
    "# Import API key\n",
    "from api_keys import weather_api_key\n",
    "\n",
    "# Incorporated citipy to determine city based on latitude and longitude\n",
    "from citipy import citipy\n",
    "\n",
    "# Output File (CSV)\n",
    "output_data_file = \"output_data/cities.csv\"\n",
    "\n",
    "# Range of latitudes and longitudes\n",
    "lat_range = (-90, 90)\n",
    "lng_range = (-180, 180)"
   ]
  },
  {
   "cell_type": "markdown",
   "metadata": {},
   "source": [
    "## Generate Cities List"
   ]
  },
  {
   "cell_type": "code",
   "execution_count": null,
   "metadata": {},
   "outputs": [],
   "source": [
    "# List for holding lat_lngs and cities\n",
    "lat_lngs = []\n",
    "cities = []\n",
    "\n",
    "# Create a set of random lat and lng combinations\n",
    "lats = np.random.uniform(lat_range[0], lat_range[1], size=1500)\n",
    "lngs = np.random.uniform(lng_range[0], lng_range[1], size=1500)\n",
    "lat_lngs = zip(lats, lngs)\n",
    "\n",
    "# Identify nearest city for each lat, lng combination\n",
    "for lat_lng in lat_lngs:\n",
    "    city = citipy.nearest_city(lat_lng[0], lat_lng[1]).city_name\n",
    "    \n",
    "    # If the city is unique, then add it to a our cities list\n",
    "    if city not in cities:\n",
    "        cities.append(city)\n",
    "\n",
    "# Print the city count to confirm sufficient count\n",
    "len(cities)"
   ]
  },
  {
   "cell_type": "markdown",
   "metadata": {},
   "source": [
    "### Perform API Calls\n",
    "* Perform a weather check on each city using a series of successive API calls.\n",
    "* Include a print log of each city as it's being processed (with the city number and city name).\n"
   ]
  },
  {
   "cell_type": "code",
   "execution_count": null,
   "metadata": {},
   "outputs": [],
   "source": [
    "#add api key to url\n",
    "url = 'http://api.openweathermap.org/data/2.5/weather?units=Imperial&APPID='+weather_api_key \n",
    "\n",
    "#create a list to store data\n",
    "city_weather_check = []\n",
    "\n",
    "#Start format for printing results\n",
    "print(\"Begining Data Retrieval\")\n",
    "print(\"-----------------------------\")\n",
    "\n",
    "#Create a for loop to gather data on each city\n",
    "for city in cities:\n",
    "    city_weather_url = url + \"&q=\" + city\n",
    "\n",
    "    try:\n",
    "        response = requests.get(city_weather_url)\n",
    "        response_json = response.json()\n",
    "        city_weather_lat = response_json[\"coord\"][\"lat\"]\n",
    "        city_weather_lng = response_json[\"coord\"][\"lon\"]\n",
    "        city_weather_weather = response_json[\"main\"][\"temp\"]\n",
    "        city_weather_temp_max = response_json[\"main\"][\"temp_max\"]\n",
    "        city_weather_humidity = response_json[\"main\"][\"humidity\"]\n",
    "        city_weather_windspeed = response_json[\"wind\"][\"speed\"]\n",
    "        city_weather_cloudiness = response_json[\"clouds\"][\"all\"]\n",
    "        city_weather_country = response_json[\"sys\"][\"country\"]\n",
    "        city_weather_date = response_json[\"dt\"]\n",
    "        city_weather_check.append({\"City\": city,\n",
    "                                 \"Latitude\":city_weather_lat,\n",
    "                                 \"Longitude\":city_weather_lng,\n",
    "                                 \"City Weather\":city_weather_weather,\n",
    "                                  \"Max Temp\":city_weather_temp_max,\n",
    "                                  \"Humidity\": city_weather_humidity,\n",
    "                                  \"Cloudiness\": city_weather_cloudiness,\n",
    "                                  \"Windspeed\": city_weather_windspeed,\n",
    "                                  \"Country\": city_weather_country,\n",
    "                                  \"Date\": city_weather_date})\n",
    "        print(f\"{city}, Processed\")\n",
    "    except:\n",
    "        print(f\"{city}, Not Found. Skipping...\")\n",
    "        pass\n",
    "#finsih format for printing results   \n",
    "print(\"-----------------------------\")\n",
    "print(\"Data Retrieval Complete\")\n",
    "print(\"-----------------------------\")"
   ]
  },
  {
   "cell_type": "code",
   "execution_count": null,
   "metadata": {},
   "outputs": [],
   "source": [
    "#Check to make sure list was filled with data\n",
    "city_weather_check"
   ]
  },
  {
   "cell_type": "code",
   "execution_count": null,
   "metadata": {},
   "outputs": [],
   "source": [
    "#check to see if json was correct\n",
    "response = requests.get(city_weather_url)\n",
    "response_json = response.json()\n",
    "response_json"
   ]
  },
  {
   "cell_type": "markdown",
   "metadata": {},
   "source": [
    "### Convert Raw Data to DataFrame\n",
    "* Export the city data into a .csv.\n",
    "* Display the DataFrame"
   ]
  },
  {
   "cell_type": "code",
   "execution_count": null,
   "metadata": {},
   "outputs": [],
   "source": [
    "#create a new data frame for city weather data\n",
    "city_weather_df = pd.DataFrame(city_weather_check)\n",
    "city_weather_df"
   ]
  },
  {
   "cell_type": "code",
   "execution_count": null,
   "metadata": {},
   "outputs": [],
   "source": [
    "#Export data to a csv and locate it\n",
    "city_weather_df.to_csv(\"../resources/city_weather_csv\")"
   ]
  },
  {
   "cell_type": "code",
   "execution_count": null,
   "metadata": {},
   "outputs": [],
   "source": [
    "#Get data frame summary\n",
    "city_weather_df.describe()"
   ]
  },
  {
   "cell_type": "markdown",
   "metadata": {},
   "source": [
    "## Inspect the data and remove the cities where the humidity > 100%.\n",
    "----\n",
    "Skip this step if there are no cities that have humidity > 100%. "
   ]
  },
  {
   "cell_type": "code",
   "execution_count": null,
   "metadata": {},
   "outputs": [],
   "source": [
    "#Reduce data frame to only include city with less than 100% humidity\n",
    "clean_city_data = city_weather_df.loc[city_weather_df[\"Humidity\"] <100]\n",
    "clean_city_data"
   ]
  },
  {
   "cell_type": "markdown",
   "metadata": {},
   "source": [
    "## Plotting the Data\n",
    "* Use proper labeling of the plots using plot titles (including date of analysis) and axes labels.\n",
    "* Save the plotted figures as .pngs."
   ]
  },
  {
   "cell_type": "markdown",
   "metadata": {},
   "source": [
    "## Latitude vs. Temperature Plot"
   ]
  },
  {
   "cell_type": "code",
   "execution_count": null,
   "metadata": {},
   "outputs": [],
   "source": [
    "#Create a plot for City Latitude vs Max Temp\n",
    "temp_x = clean_city_data[\"Latitude\"]\n",
    "temp_y = clean_city_data[\"Max Temp\"]\n",
    "temp_colors = [\"orange\"]\n",
    "\n",
    "temp_scatter = plt.scatter(temp_x,temp_y, c= temp_colors, edgecolors = \"black\")\n",
    "plt.title(\"City Latitude vs Max Temp\")\n",
    "plt.xlabel(\"Latitude\")\n",
    "plt.ylabel(\"Max Temperature (F)\")\n",
    "plt.grid()\n",
    "plt.show()\n",
    "plt.savefig(\"../resources/lat_vs_temp.png\")"
   ]
  },
  {
   "cell_type": "markdown",
   "metadata": {},
   "source": [
    "### The graph performs a parabola and shows as you move away from the equator the temperature drops significantly."
   ]
  },
  {
   "cell_type": "markdown",
   "metadata": {},
   "source": [
    "## Latitude vs. Humidity Plot"
   ]
  },
  {
   "cell_type": "code",
   "execution_count": null,
   "metadata": {},
   "outputs": [],
   "source": [
    "#Create a plot for City Latitude vs Humidity\n",
    "humidity_x = clean_city_data[\"Latitude\"]\n",
    "humidity_y = clean_city_data[\"Humidity\"]\n",
    "humidity_colors = [\"red\"]\n",
    "\n",
    "humidity_scatter = plt.scatter(humidity_x, humidity_y, c= humidity_colors, edgecolors = \"yellow\")\n",
    "plt.title(\"City Latitude vs Humidity (%)\")\n",
    "plt.xlabel(\"Latitude\")\n",
    "plt.ylabel(\"Humidity (%)\")\n",
    "plt.grid()\n",
    "plt.show()\n",
    "plt.savefig(\"../resources/lat_vs_humidity.png\")"
   ]
  },
  {
   "cell_type": "markdown",
   "metadata": {},
   "source": [
    "### Humidity looks to stay at relatively high percentage thoughout the longitudes dipping down a little bit in certian areas of latitude"
   ]
  },
  {
   "cell_type": "markdown",
   "metadata": {},
   "source": [
    "## Latitude vs. Cloudiness Plot"
   ]
  },
  {
   "cell_type": "code",
   "execution_count": null,
   "metadata": {},
   "outputs": [],
   "source": [
    "#Create a plot for City Latitude vs Cloudiness\n",
    "cloudiness_x = clean_city_data[\"Latitude\"]\n",
    "cloudiness_y = clean_city_data[\"Cloudiness\"]\n",
    "cloudiness_colors = [\"lightblue\"]\n",
    "\n",
    "cloudiness_scatter = plt.scatter(cloudiness_x, cloudiness_y, c= cloudiness_colors, edgecolors = \"grey\")\n",
    "plt.title(\"City Latitude vs Cloudiness (%)\")\n",
    "plt.xlabel(\"Latitude\")\n",
    "plt.ylabel(\"Cloudiness(%)\")\n",
    "plt.grid()\n",
    "plt.show()\n",
    "plt.savefig(\"../resources/lat_vs_cloudiness.png\")"
   ]
  },
  {
   "cell_type": "markdown",
   "metadata": {},
   "source": [
    "### There looks to be really little coralation with cloudiness percentage and it doesn't matter where you are for how cloudy it is"
   ]
  },
  {
   "cell_type": "markdown",
   "metadata": {},
   "source": [
    "## Latitude vs. Wind Speed Plot"
   ]
  },
  {
   "cell_type": "code",
   "execution_count": null,
   "metadata": {},
   "outputs": [],
   "source": [
    "#Create a plot for City Latitude vs Wind Speed\n",
    "windspeed_x = clean_city_data[\"Latitude\"]\n",
    "windspeed_y = clean_city_data[\"Windspeed\"]\n",
    "windspeed_colors = [\"grey\"]\n",
    "\n",
    "windspeed_scatter = plt.scatter(windspeed_x, windspeed_y, c= windspeed_colors, edgecolors = \"black\")\n",
    "plt.title(\"City Latitude vs Wind Speed (mph)\")\n",
    "plt.xlabel(\"Latitude\")\n",
    "plt.ylabel(\"Wind Speed\")\n",
    "plt.grid()\n",
    "plt.show()\n",
    "plt.savefig(\"../resources/lat_vs_windspeed.png\")"
   ]
  },
  {
   "cell_type": "markdown",
   "metadata": {},
   "source": [
    "### Throughout the world it looks like windspeed will stay below 15 mph with a few exceptions here and there"
   ]
  },
  {
   "cell_type": "markdown",
   "metadata": {},
   "source": [
    "## Linear Regression"
   ]
  },
  {
   "cell_type": "code",
   "execution_count": null,
   "metadata": {},
   "outputs": [],
   "source": [
    "#Separate the two hemispheres into their own data frame\n",
    "northern_hemisphere_df = clean_city_data.loc[clean_city_data[\"Latitude\"] >= 0]\n",
    "southern_hemisphere_df = clean_city_data.loc[clean_city_data[\"Latitude\"] <= 0]\n",
    "southern_hemisphere_df"
   ]
  },
  {
   "cell_type": "markdown",
   "metadata": {},
   "source": [
    "####  Northern Hemisphere - Max Temp vs. Latitude Linear Regression"
   ]
  },
  {
   "cell_type": "code",
   "execution_count": null,
   "metadata": {},
   "outputs": [],
   "source": [
    "#Declare x and y values\n",
    "north_temp_x_lr = northern_hemisphere_df[\"Latitude\"]\n",
    "north_temp_y_lr = northern_hemisphere_df[\"Max Temp\"]\n",
    "north_temp_lr_colors = [\"orange\"]\n",
    "\n",
    "#Create scatter plot\n",
    "north_temp_scatter = plt.scatter(north_temp_x_lr, north_temp_y_lr, c= north_temp_lr_colors, edgecolors = \"black\")\n",
    "plt.title(\"Northern Hemisphere City Latitude vs Max Temp\")\n",
    "plt.xlabel(\"Latitude\")\n",
    "plt.ylabel(\"Max Temperature (F)\")\n",
    "\n",
    "\n",
    "# Formula for y= mx+b\n",
    "#north_temp_formula = northern_hemisphere_df[\"Max Temp\"] * north_temp_lr.slope + north_temp_lr.intercept\n",
    "north_temp_lr = linregress(north_temp_x_lr,north_temp_y_lr)\n",
    "line_eq = \"y = \" + str(round(north_temp_lr.slope,2)) + \"x + \" + str(round(north_temp_lr.intercept,2))\n",
    "north_temp_slope = north_temp_lr.slope\n",
    "b_north_temp = north_temp_lr.intercept\n",
    "x_north_temp = north_temp_x_lr\n",
    "north_temp_formula = x_north_temp * north_temp_slope + b_north_temp\n",
    "\n",
    "#Plot linear regression\n",
    "plt.annotate(line_eq,(0,40),fontsize=15,color=\"red\")\n",
    "plt.plot(x_north_temp, north_temp_formula)\n",
    "plt.savefig(\"../resources/northern_lat_vs_temp.png\")"
   ]
  },
  {
   "cell_type": "markdown",
   "metadata": {},
   "source": [
    "### In the northern hemisphere the temperature goes down are you move up in latitude"
   ]
  },
  {
   "cell_type": "markdown",
   "metadata": {},
   "source": [
    "####  Southern Hemisphere - Max Temp vs. Latitude Linear Regression"
   ]
  },
  {
   "cell_type": "code",
   "execution_count": null,
   "metadata": {},
   "outputs": [],
   "source": [
    "#Declare x and y values\n",
    "south_temp_x_lr = southern_hemisphere_df[\"Latitude\"]\n",
    "south_temp_y_lr = southern_hemisphere_df[\"Max Temp\"]\n",
    "south_temp_lr_colors = [\"orange\"]\n",
    "\n",
    "#Label the plot\n",
    "south_temp_scatter = plt.scatter(south_temp_x_lr,south_temp_y_lr, c= south_temp_lr_colors, edgecolors = \"black\")\n",
    "plt.title(\"Southern Hemisphere City Latitude vs Humidity (%)\")\n",
    "plt.xlabel(\"Latitude\")\n",
    "plt.ylabel(\"Humidity (%)\")\n",
    "south_temp_lr = linregress(south_temp_x_lr,south_temp_y_lr)\n",
    "\n",
    "#Formula for y = mx + b\n",
    "line_eq2 = \"y = \" + str(round(south_temp_lr.slope,2)) + \"x + \" + str(round(south_temp_lr.intercept,2))\n",
    "south_temp_slope = south_temp_lr.slope\n",
    "b_south_temp = south_temp_lr.intercept\n",
    "x_south_temp = south_temp_x_lr\n",
    "south_temp_formula = x_south_temp * south_temp_slope + b_south_temp\n",
    "\n",
    "#Plot linear regression\n",
    "plt.annotate(line_eq2,(-50,80),fontsize=15,color=\"red\")\n",
    "plt.plot(x_south_temp, south_temp_formula)\n",
    "plt.savefig(\"../resources/southern_lat_vs_temp.png\")"
   ]
  },
  {
   "cell_type": "markdown",
   "metadata": {},
   "source": [
    "### As you move further down the southern hemishpere the temperature gets colder"
   ]
  },
  {
   "cell_type": "markdown",
   "metadata": {},
   "source": [
    "####  Northern Hemisphere - Humidity (%) vs. Latitude Linear Regression"
   ]
  },
  {
   "cell_type": "code",
   "execution_count": null,
   "metadata": {},
   "outputs": [],
   "source": [
    "#Declare x and y values\n",
    "north_humidity_x_lr = northern_hemisphere_df[\"Latitude\"]\n",
    "north_humidity_y_lr = northern_hemisphere_df[\"Humidity\"]\n",
    "north_humidity_lr_colors = [\"orange\"]\n",
    "\n",
    "#Label the plot\n",
    "north_humidity_scatter = plt.scatter(north_temp_x_lr, north_temp_y_lr, c= north_temp_lr_colors, edgecolors = \"green\")\n",
    "plt.title(\"Northern Hemisphere City Latitude vs Humidity (%)\")\n",
    "plt.xlabel(\"Latitude\")\n",
    "plt.ylabel(\"Humidity (%)\")\n",
    "\n",
    "#Set up formula\n",
    "linregress(north_humidity_x_lr,north_humidity_y_lr)\n",
    "\n",
    "north_humidity_lr = linregress(north_humidity_x_lr,north_humidity_y_lr)\n",
    "line_eq3 = \"y = \" + str(round(north_humidity_lr.slope,2)) + \"x + \" + str(round(north_humidity_lr.intercept,2))\n",
    "north_humidity_slope = north_humidity_lr.slope\n",
    "b_north_humidity = north_humidity_lr.intercept\n",
    "x_north_humidity = north_humidity_x_lr\n",
    "north_humidity_formula = x_north_humidity * north_humidity_slope + b_north_humidity\n",
    "\n",
    "#Plot linear regression\n",
    "plt.annotate(line_eq3,(0,40),fontsize=15,color=\"red\")\n",
    "plt.plot(x_north_humidity, north_humidity_formula)\n",
    "plt.savefig(\"../resources/northern_lat_vs_humidity.png\")"
   ]
  },
  {
   "cell_type": "markdown",
   "metadata": {},
   "source": [
    "### As you move furthern north the humidity will start to go down"
   ]
  },
  {
   "cell_type": "markdown",
   "metadata": {},
   "source": [
    "####  Southern Hemisphere - Humidity (%) vs. Latitude Linear Regression"
   ]
  },
  {
   "cell_type": "code",
   "execution_count": null,
   "metadata": {},
   "outputs": [],
   "source": [
    "#Declare x and y values\n",
    "south_humidity_x_lr = southern_hemisphere_df[\"Latitude\"]\n",
    "south_humidity_y_lr = southern_hemisphere_df[\"Humidity\"]\n",
    "south_humidity_lr_colors = [\"orange\"]\n",
    "\n",
    "#Label the plot\n",
    "south_humidity_scatter = plt.scatter(south_humidity_x_lr, south_humidity_y_lr, c= south_humidity_lr_colors, edgecolors = \"green\")\n",
    "plt.title(\"Southern Hemisphere City Latitude vs Humidity (%)\")\n",
    "plt.xlabel(\"Latitude\")\n",
    "plt.ylabel(\"Humidity (%)\")\n",
    "south_humidity_lr = linregress(south_humidity_x_lr,south_humidity_y_lr)\n",
    "\n",
    "#Formula for y = mx + b\n",
    "line_eq4 = \"y = \" + str(round(south_humidity_lr.slope,2)) + \"x + \" + str(round(south_humidity_lr.intercept,2))\n",
    "south_humidity_slope = south_humidity_lr.slope\n",
    "b_south_humidity = south_humidity_lr.intercept\n",
    "x_south_humidity = south_humidity_x_lr\n",
    "south_humidity_formula = x_south_humidity * south_humidity_slope + b_south_humidity\n",
    "\n",
    "#Plot linear regression\n",
    "plt.annotate(line_eq4,(-55,20),fontsize=15,color=\"red\")\n",
    "plt.plot(x_south_humidity, south_humidity_formula)\n",
    "plt.savefig(\"../resources/southern_lat_vs_humidity.png\")"
   ]
  },
  {
   "cell_type": "code",
   "execution_count": null,
   "metadata": {},
   "outputs": [],
   "source": []
  },
  {
   "cell_type": "markdown",
   "metadata": {},
   "source": [
    "####  Northern Hemisphere - Cloudiness (%) vs. Latitude Linear Regression"
   ]
  },
  {
   "cell_type": "code",
   "execution_count": null,
   "metadata": {},
   "outputs": [],
   "source": [
    "#Declare x and y values\n",
    "north_cloudiness_x_lr = northern_hemisphere_df[\"Latitude\"]\n",
    "north_cloudiness_y_lr = northern_hemisphere_df[\"Cloudiness\"]\n",
    "north_cloudiness_lr_colors = [\"orange\"]\n",
    "\n",
    "#Label the plot\n",
    "north_cloudiness_scatter = plt.scatter(north_cloudiness_x_lr, north_cloudiness_y_lr, c= north_cloudiness_lr_colors, edgecolors = \"green\")\n",
    "plt.title(\"Northern Hemisphere City Latitude vs Cloudiness (%)\")\n",
    "plt.xlabel(\"Latitude\")\n",
    "plt.ylabel(\"Cloudiness (%)\")\n",
    "north_cloudiness_lr = linregress(north_cloudiness_x_lr,north_cloudiness_y_lr)\n",
    "\n",
    "#Set up formula\n",
    "line_eq5 = \"y = \" + str(round(north_cloudiness_lr.slope,2)) + \"x + \" + str(round(north_cloudiness_lr.intercept,2))\n",
    "north_cloudiness_slope = north_cloudiness_lr.slope\n",
    "b_north_cloudiness = north_cloudiness_lr.intercept\n",
    "x_north_cloudiness = north_cloudiness_x_lr\n",
    "north_cloudiness_formula = x_north_cloudiness * north_cloudiness_slope + b_north_cloudiness\n",
    "\n",
    "#Plot linear regression\n",
    "plt.annotate(line_eq5,(45,25),fontsize=15,color=\"red\")\n",
    "plt.plot(x_north_cloudiness, north_cloudiness_formula)\n",
    "plt.savefig(\"../resources/northern_lat_vs_cloudiness.png\")"
   ]
  },
  {
   "cell_type": "markdown",
   "metadata": {},
   "source": [
    "####  Southern Hemisphere - Cloudiness (%) vs. Latitude Linear Regression"
   ]
  },
  {
   "cell_type": "code",
   "execution_count": null,
   "metadata": {},
   "outputs": [],
   "source": [
    "#Declare x and y values\n",
    "south_cloudiness_x_lr = southern_hemisphere_df[\"Latitude\"]\n",
    "south_cloudiness_y_lr = southern_hemisphere_df[\"Cloudiness\"]\n",
    "south_cloudiness_lr_colors = [\"orange\"]\n",
    "\n",
    "#Label the plot\n",
    "south_cloudiness_scatter = plt.scatter(south_cloudiness_x_lr, south_cloudiness_y_lr, c= south_cloudiness_lr_colors, edgecolors = \"green\")\n",
    "plt.title(\"Southern Hemisphere City Latitude vs Cloudiness (%)\")\n",
    "plt.xlabel(\"Latitude\")\n",
    "plt.ylabel(\"Cloudiness (%)\")\n",
    "south_cloudiness_lr = linregress(south_cloudiness_x_lr, south_cloudiness_y_lr)\n",
    "\n",
    "#Set up formula\n",
    "line_eq6 = \"y = \" + str(round(south_cloudiness_lr.slope,2)) + \"x + \" + str(round(south_cloudiness_lr.intercept,2))\n",
    "south_cloudiness_slope = south_cloudiness_lr.slope\n",
    "b_south_cloudiness = south_cloudiness_lr.intercept\n",
    "x_south_cloudiness = south_cloudiness_x_lr\n",
    "south_cloudiness_formula = x_south_cloudiness * south_cloudiness_slope + b_south_cloudiness\n",
    "\n",
    "#Plot linear regression\n",
    "plt.annotate(line_eq6,(-55,20),fontsize=15,color=\"black\")\n",
    "plt.plot(x_south_cloudiness, south_cloudiness_formula)\n",
    "plt.savefig(\"../resources/southern_lat_vs_cloudiness.png\")"
   ]
  },
  {
   "cell_type": "code",
   "execution_count": null,
   "metadata": {},
   "outputs": [],
   "source": []
  },
  {
   "cell_type": "markdown",
   "metadata": {},
   "source": [
    "####  Northern Hemisphere - Wind Speed (mph) vs. Latitude Linear Regression"
   ]
  },
  {
   "cell_type": "code",
   "execution_count": null,
   "metadata": {},
   "outputs": [],
   "source": [
    "#Declare x and y values\n",
    "north_windspeed_x_lr = northern_hemisphere_df[\"Latitude\"]\n",
    "north_windspeed_y_lr = northern_hemisphere_df[\"Windspeed\"]\n",
    "north_windspeed_lr_colors = [\"orange\"]\n",
    "\n",
    "#Label plot\n",
    "north_windspeed_scatter = plt.scatter(north_windspeed_x_lr, north_windspeed_y_lr, c= north_windspeed_lr_colors, edgecolors = \"green\")\n",
    "plt.title(\"Northern Hemisphere City Latitude vs Wind Speed (mph)\")\n",
    "plt.xlabel(\"Latitude\")\n",
    "plt.ylabel(\"Wind Speed (mph)\")\n",
    "north_windspeed_lr = linregress(north_windspeed_x_lr,north_windspeed_y_lr)\n",
    "\n",
    "#Set up formula\n",
    "line_eq7 = \"y = \" + str(round(north_windspeed_lr.slope,2)) + \"x + \" + str(round(north_windspeed_lr.intercept,2))\n",
    "north_windspeed_slope = north_windspeed_lr.slope\n",
    "b_north_windspeed = north_windspeed_lr.intercept\n",
    "x_north_windspeed = north_windspeed_x_lr\n",
    "north_windspeed_formula = x_north_windspeed * north_windspeed_slope + b_north_windspeed\n",
    "\n",
    "#Plot linear regression\n",
    "plt.annotate(line_eq7,(45,21),fontsize=15,color=\"red\")\n",
    "plt.plot(x_north_windspeed, north_windspeed_formula)\n",
    "plt.savefig(\"../resources/northern_lat_vs_windspeed.png\")"
   ]
  },
  {
   "cell_type": "markdown",
   "metadata": {},
   "source": [
    "####  Southern Hemisphere - Wind Speed (mph) vs. Latitude Linear Regression"
   ]
  },
  {
   "cell_type": "code",
   "execution_count": null,
   "metadata": {},
   "outputs": [],
   "source": [
    "#Declare x and y values\n",
    "south_windspeed_x_lr = southern_hemisphere_df[\"Latitude\"]\n",
    "south_windspeed_y_lr = southern_hemisphere_df[\"Windspeed\"]\n",
    "south_windspeed_lr_colors = [\"orange\"]\n",
    "\n",
    "#Label plot\n",
    "south_cloudiness_scatter = plt.scatter(south_windspeed_x_lr, south_windspeed_y_lr, c= south_windspeed_lr_colors, edgecolors = \"green\")\n",
    "plt.title(\"Southern Hemisphere City Latitude vs Wind Speed (mph)\")\n",
    "plt.xlabel(\"Latitude\")\n",
    "plt.ylabel(\"Wind Speed (mph)\")\n",
    "\n",
    "#Set up formula\n",
    "south_windspeed_lr = linregress(south_windspeed_x_lr,south_windspeed_y_lr)\n",
    "line_eq8 = \"y = \" + str(round(south_windspeed_lr.slope,2)) + \"x + \" + str(round(south_windspeed_lr.intercept,2))\n",
    "south_windspeed_slope = south_windspeed_lr.slope\n",
    "b_south_windspeed = south_windspeed_lr.intercept\n",
    "x_south_windspeed = south_windspeed_x_lr\n",
    "south_windspeed_formula = x_south_windspeed * south_windspeed_slope + b_south_windspeed\n",
    "\n",
    "#Plot linear regression\n",
    "plt.annotate(line_eq8,(-25,30),fontsize=15,color=\"red\")\n",
    "plt.plot(x_south_windspeed, south_windspeed_formula)\n",
    "plt.savefig(\"../resources/southern_lat_vs_windspeed.png\")"
   ]
  },
  {
   "cell_type": "code",
   "execution_count": null,
   "metadata": {},
   "outputs": [],
   "source": []
  },
  {
   "cell_type": "code",
   "execution_count": null,
   "metadata": {},
   "outputs": [],
   "source": []
  }
 ],
 "metadata": {
  "anaconda-cloud": {},
  "kernel_info": {
   "name": "python3"
  },
  "kernelspec": {
   "display_name": "PythonData38",
   "language": "python",
   "name": "pythondata38"
  },
  "language_info": {
   "codemirror_mode": {
    "name": "ipython",
    "version": 3
   },
   "file_extension": ".py",
   "mimetype": "text/x-python",
   "name": "python",
   "nbconvert_exporter": "python",
   "pygments_lexer": "ipython3",
   "version": "3.9.12"
  },
  "latex_envs": {
   "LaTeX_envs_menu_present": true,
   "autoclose": false,
   "autocomplete": true,
   "bibliofile": "biblio.bib",
   "cite_by": "apalike",
   "current_citInitial": 1,
   "eqLabelWithNumbers": true,
   "eqNumInitial": 1,
   "hotkeys": {
    "equation": "Ctrl-E",
    "itemize": "Ctrl-I"
   },
   "labels_anchors": false,
   "latex_user_defs": false,
   "report_style_numbering": false,
   "user_envs_cfg": false
  },
  "nteract": {
   "version": "0.12.3"
  }
 },
 "nbformat": 4,
 "nbformat_minor": 2
}
